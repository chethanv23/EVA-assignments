{
  "nbformat": 4,
  "nbformat_minor": 0,
  "metadata": {
    "colab": {
      "name": "Normalization.ipynb",
      "provenance": [],
      "collapsed_sections": []
    },
    "kernelspec": {
      "name": "python3",
      "display_name": "Python 3"
    },
    "language_info": {
      "name": "python"
    }
  },
  "cells": [
    {
      "cell_type": "code",
      "metadata": {
        "id": "lU5pxU5hhstF"
      },
      "source": [
        "import torch\n",
        "import torch.nn as nn\n",
        "import torch.nn.functional as F\n",
        "from __future__ import print_function\n",
        "import torch\n",
        "import torch.nn as nn\n",
        "import torch.nn.functional as F\n",
        "import torch.optim as optim\n",
        "from torchvision import datasets, transforms\n",
        "import matplotlib.pyplot as plt\n",
        "from tqdm import tqdm\n"
      ],
      "execution_count": 7,
      "outputs": []
    },
    {
      "cell_type": "code",
      "metadata": {
        "id": "ZjQT9IXVh5jP"
      },
      "source": [
        "def perform_norm(type, num_channels, channel_size_w, channel_size_h, num_groups=2):\n",
        "    if type == 'BN':\n",
        "        return nn.BatchNorm2d(num_channels)\n",
        "    elif type == 'LN':\n",
        "        return nn.LayerNorm((num_channels, channel_size_w, channel_size_h))\n",
        "    elif type == 'GN':\n",
        "        return nn.GroupNorm(num_groups, num_channels)\n"
      ],
      "execution_count": 2,
      "outputs": []
    },
    {
      "cell_type": "code",
      "metadata": {
        "id": "U6Z-44sch5mh"
      },
      "source": [
        "class Net(nn.Module):\n",
        "    def __init__(self, type):\n",
        "        super(Net, self).__init__()\n",
        "        dropout_prob=0.1\n",
        "        self.conv1 = nn.Sequential(\n",
        "            nn.Conv2d(1, 12, 3, padding=1, bias=False),\n",
        "            nn.ReLU(),\n",
        "            perform_norm(type, 12, 28, 28, 2),\n",
        "            nn.Dropout2d(p=dropout_prob)\n",
        "        ) # Input=28, Output=28, rf=3\n",
        "        self.conv2 = nn.Sequential(\n",
        "            nn.Conv2d(12, 12, 3, padding=1, bias=False),\n",
        "            nn.ReLU(),\n",
        "            perform_norm(type, 12, 28, 28, 2),\n",
        "            nn.Dropout2d(p=dropout_prob)\n",
        "        ) # Input=28, Output=28, rf=5\n",
        "\n",
        "        self.pool1= nn.MaxPool2d(2, 2) # Input=28, Output=14, rf=6\n",
        "\n",
        "        self.conv3 = nn.Sequential(\n",
        "            nn.Conv2d(12, 14, 3, padding=1, bias=False),\n",
        "            nn.ReLU(),\n",
        "            perform_norm(type, 14, 14, 14, 2),\n",
        "            nn.Dropout2d(p=dropout_prob) # Input=14, Output=14, rf=10\n",
        "        )\n",
        "        self.conv4 = nn.Sequential(\n",
        "            nn.Conv2d(14, 14, 3, padding=1, bias=False),\n",
        "            nn.ReLU(),\n",
        "            perform_norm(type, 14, 14, 14, 2),\n",
        "            nn.Dropout2d(p=dropout_prob) # Input=14, Output=14, rf=14\n",
        "        )\n",
        "\n",
        "        self.pool2= nn.MaxPool2d(2, 2) # Input=14, Output=7, rf=16\n",
        "\n",
        "        self.conv5 = nn.Sequential(\n",
        "            nn.Conv2d(14, 14, 3, padding=0, bias=False),\n",
        "            nn.ReLU(),\n",
        "            perform_norm(type, 14, 5, 5, 2),\n",
        "            nn.Dropout2d(p=dropout_prob) # Input=7, Output=5, rf=24\n",
        "        )\n",
        "       \n",
        "        self.conv6 = nn.Sequential(\n",
        "            nn.Conv2d(14, 10, 3, padding=0, bias=False),\n",
        "        ) # Input=5, Output=3, rf=32\n",
        "\n",
        "        self.global_avgpool = nn.AdaptiveAvgPool2d(1)  # Input=3, Output=1, rf=40\n",
        "      \n",
        "    \n",
        "    def forward(self, x):\n",
        "        x = self.conv1(x)\n",
        "        x = self.conv2(x)\n",
        "        x = self.pool1(x)\n",
        "        x = self.conv3(x)\n",
        "        x = self.conv4(x)\n",
        "\n",
        "        x = self.pool2(x)\n",
        "        x = self.conv5(x)\n",
        "        x = self.conv6(x)\n",
        "               \n",
        "        x = self.global_avgpool(x)\n",
        "        x = x.view(-1, 10)\n",
        "        return F.log_softmax(x)"
      ],
      "execution_count": 49,
      "outputs": []
    },
    {
      "cell_type": "code",
      "metadata": {
        "id": "AV67w64zh5pF"
      },
      "source": [
        "from tqdm import tqdm\n",
        "\n",
        "\n",
        "def train(model, device, train_loader, optimizer, epoch, train_loss_list, train_acc_list, l1_param=0.0):\n",
        "  model.train()\n",
        "  pbar = tqdm(train_loader)\n",
        "  correct = 0\n",
        "  processed = 0\n",
        "  train_losses = []\n",
        "  for batch_idx, (data, target) in enumerate(pbar):\n",
        "    # get samples\n",
        "    data, target = data.to(device), target.to(device)\n",
        "\n",
        "    # Init\n",
        "    optimizer.zero_grad()\n",
        "    # In PyTorch, we need to set the gradients to zero before starting to do backpropragation because PyTorch accumulates the gradients on subsequent backward passes. \n",
        "    # Because of this, when you start your training loop, ideally you should zero out the gradients so that you do the parameter update correctly.\n",
        "\n",
        "    # Predict\n",
        "    y_pred = model(data)\n",
        "\n",
        "    # Calculate loss\n",
        "    loss = F.nll_loss(y_pred, target)\n",
        "    \n",
        "    if l1_param > 0.0:\n",
        "        regularization_loss = 0.0\n",
        "\n",
        "        for param in model.parameters():\n",
        "            if param.dim() > 1 :\n",
        "                regularization_loss += param.norm(1)\n",
        "\n",
        "        regularization_loss *= l1_param\n",
        "        loss += regularization_loss     \n",
        "    \n",
        "    train_losses.append(loss)\n",
        "\n",
        "    # Backpropagation\n",
        "    loss.backward()\n",
        "    optimizer.step()\n",
        "\n",
        "    # Update pbar-tqdm\n",
        "    \n",
        "    pred = y_pred.argmax(dim=1, keepdim=True)  # get the index of the max log-probability\n",
        "    correct += pred.eq(target.view_as(pred)).sum().item()\n",
        "    processed += len(data)\n",
        "\n",
        "    pbar.set_description(desc= f'Loss={loss.item()} Batch_id={batch_idx} Accuracy={100*correct/processed:0.2f}')\n",
        "  train_acc_list.append(100*correct/processed)\n",
        "  train_loss_list.append(sum(train_losses)/len(train_losses))\n",
        "\n",
        "def test(model, device, test_loader, test_loss_list, test_acc_list):\n",
        "    model.eval()\n",
        "    test_loss = 0\n",
        "    correct = 0\n",
        "    with torch.no_grad():\n",
        "        for data, target in test_loader:\n",
        "            data, target = data.to(device), target.to(device)\n",
        "            output = model(data)\n",
        "            test_loss += F.nll_loss(output, target, reduction='sum').item()  # sum up batch loss\n",
        "            pred = output.argmax(dim=1, keepdim=True)  # get the index of the max log-probability\n",
        "            correct += pred.eq(target.view_as(pred)).sum().item()\n",
        "\n",
        "    test_loss /= len(test_loader.dataset)\n",
        "    test_loss_list.append(test_loss)\n",
        "\n",
        "    print('\\nTest set: Average loss: {:.4f}, Accuracy: {}/{} ({:.2f}%)\\n'.format(\n",
        "        test_loss, correct, len(test_loader.dataset),\n",
        "        100. * correct / len(test_loader.dataset)))\n",
        "    \n",
        "    test_acc_list.append(100. * correct / len(test_loader.dataset))"
      ],
      "execution_count": 42,
      "outputs": []
    },
    {
      "cell_type": "markdown",
      "metadata": {
        "id": "2ZUt3TVsqQ4X"
      },
      "source": [
        "Misclassified Images"
      ]
    },
    {
      "cell_type": "code",
      "metadata": {
        "id": "pprZLK5Ch5u0"
      },
      "source": [
        "\n",
        "def find_plot_misclassified_images(test_loader, model, num_display_images = 20):\n",
        "    incorrect_image_list =[]\n",
        "    predicted_label_list =[]\n",
        "    correct_label_list = []\n",
        "    for (i, [data, target]) in enumerate(test_loader):\n",
        "        data, target = data.to(device), target.to(device)\n",
        "        output = model(data)\n",
        "        pred = output.argmax(dim=1, keepdim=True).squeeze(1)         \n",
        "        idxs_mask = (pred !=  target).view(-1)\n",
        "        img_nm = data[idxs_mask].cpu().numpy()\n",
        "        img_nm = img_nm.reshape(img_nm.shape[0], 28, 28)\n",
        "        if img_nm.shape[0] > 0:\n",
        "            img_list = [img_nm[i] for i in range(img_nm.shape[0])]\n",
        "            incorrect_image_list.extend(img_list)\n",
        "            predicted_label_list.extend(pred[idxs_mask].cpu().numpy())\n",
        "            correct_label_list.extend(target[idxs_mask].cpu().numpy())\n",
        "\n",
        "    plt.figure(figsize=(15,15))\n",
        "    columns = 5\n",
        "    i= 0\n",
        "    # Display the list of 25 misclassified images\n",
        "    for index, image in enumerate(incorrect_image_list) :\n",
        "        ax = plt.subplot(5, 5, i+1)\n",
        "        ax.set_title(\"Actual: \" + str(correct_label_list[index]) + \", Predicted: \" + str(predicted_label_list[index]))\n",
        "        ax.axis('off')\n",
        "        plt.imshow(image)\n",
        "        i +=1\n",
        "        if i== num_display_images:\n",
        "            break"
      ],
      "execution_count": 43,
      "outputs": []
    },
    {
      "cell_type": "code",
      "metadata": {
        "id": "7Vaeq71Oh5xU"
      },
      "source": [
        "batch_size = 64\n",
        "use_cuda = torch.cuda.is_available()\n",
        "kwargs = {'num_workers': 1, 'pin_memory': True} if use_cuda else {}\n",
        "train_loader = torch.utils.data.DataLoader(\n",
        "    datasets.MNIST('../data', train=True, download=True,\n",
        "                    transform=transforms.Compose([\n",
        "                        transforms.RandomRotation((-7.0, 7.0), fill=(1,)),\n",
        "\n",
        "                        transforms.ToTensor(),\n",
        "                        transforms.Normalize((0.1307,), (0.3081,))\n",
        "                    ])),\n",
        "    batch_size=batch_size, shuffle=True, **kwargs)\n",
        "test_loader = torch.utils.data.DataLoader(\n",
        "    datasets.MNIST('../data', train=False, transform=transforms.Compose([\n",
        "                        transforms.ToTensor(),\n",
        "                        transforms.Normalize((0.1307,), (0.3081,))\n",
        "                    ])),\n",
        "    batch_size=batch_size, shuffle=True, **kwargs)"
      ],
      "execution_count": 44,
      "outputs": []
    },
    {
      "cell_type": "markdown",
      "metadata": {
        "id": "0TbW6TsJqhfe"
      },
      "source": [
        "Group Normalization + L1"
      ]
    },
    {
      "cell_type": "code",
      "metadata": {
        "colab": {
          "base_uri": "https://localhost:8080/"
        },
        "id": "eZupMkCoqjNF",
        "outputId": "8efd2294-1f36-4869-ca6b-a745853a7875"
      },
      "source": [
        "!pip install torchsummary\n",
        "from torchsummary import summary\n",
        "use_cuda = torch.cuda.is_available()\n",
        "device = torch.device(\"cuda\" if use_cuda else \"cpu\")\n",
        "model_groupnorm_l1 = Net('GN').to(device)\n",
        "summary(model_groupnorm_l1, input_size=(1, 28, 28))"
      ],
      "execution_count": 45,
      "outputs": [
        {
          "output_type": "stream",
          "text": [
            "Requirement already satisfied: torchsummary in /usr/local/lib/python3.7/dist-packages (1.5.1)\n",
            "----------------------------------------------------------------\n",
            "        Layer (type)               Output Shape         Param #\n",
            "================================================================\n",
            "            Conv2d-1           [-1, 12, 28, 28]             108\n",
            "              ReLU-2           [-1, 12, 28, 28]               0\n",
            "         GroupNorm-3           [-1, 12, 28, 28]              24\n",
            "         Dropout2d-4           [-1, 12, 28, 28]               0\n",
            "            Conv2d-5           [-1, 16, 28, 28]           1,728\n",
            "              ReLU-6           [-1, 16, 28, 28]               0\n",
            "         GroupNorm-7           [-1, 16, 28, 28]              32\n",
            "         Dropout2d-8           [-1, 16, 28, 28]               0\n",
            "         MaxPool2d-9           [-1, 16, 14, 14]               0\n",
            "           Conv2d-10           [-1, 16, 14, 14]           2,304\n",
            "             ReLU-11           [-1, 16, 14, 14]               0\n",
            "        GroupNorm-12           [-1, 16, 14, 14]              32\n",
            "        Dropout2d-13           [-1, 16, 14, 14]               0\n",
            "           Conv2d-14           [-1, 16, 14, 14]           2,304\n",
            "             ReLU-15           [-1, 16, 14, 14]               0\n",
            "        GroupNorm-16           [-1, 16, 14, 14]              32\n",
            "        Dropout2d-17           [-1, 16, 14, 14]               0\n",
            "        MaxPool2d-18             [-1, 16, 7, 7]               0\n",
            "           Conv2d-19             [-1, 16, 5, 5]           2,304\n",
            "             ReLU-20             [-1, 16, 5, 5]               0\n",
            "        GroupNorm-21             [-1, 16, 5, 5]              32\n",
            "        Dropout2d-22             [-1, 16, 5, 5]               0\n",
            "           Conv2d-23             [-1, 10, 3, 3]           1,440\n",
            "AdaptiveAvgPool2d-24             [-1, 10, 1, 1]               0\n",
            "================================================================\n",
            "Total params: 10,340\n",
            "Trainable params: 10,340\n",
            "Non-trainable params: 0\n",
            "----------------------------------------------------------------\n",
            "Input size (MB): 0.00\n",
            "Forward/backward pass size (MB): 0.90\n",
            "Params size (MB): 0.04\n",
            "Estimated Total Size (MB): 0.95\n",
            "----------------------------------------------------------------\n"
          ],
          "name": "stdout"
        },
        {
          "output_type": "stream",
          "text": [
            "/usr/local/lib/python3.7/dist-packages/ipykernel_launcher.py:62: UserWarning: Implicit dimension choice for log_softmax has been deprecated. Change the call to include dim=X as an argument.\n"
          ],
          "name": "stderr"
        }
      ]
    },
    {
      "cell_type": "code",
      "metadata": {
        "colab": {
          "base_uri": "https://localhost:8080/"
        },
        "id": "geCBRsp8qjQE",
        "outputId": "4b6909ac-54f4-4464-c379-6c95559976b5"
      },
      "source": [
        "\n",
        "from torch.optim.lr_scheduler import StepLR\n",
        "\n",
        "model_groupnorm_l1 =  Net('GN').to(device)\n",
        "optimizer = optim.SGD(model_groupnorm_l1.parameters(), lr=0.19, momentum=0.9)\n",
        "scheduler = StepLR(optimizer, step_size=6, gamma=0.1)\n",
        "\n",
        "EPOCHS = 25\n",
        "train_loss_groupnorm_l1_list = []\n",
        "train_acc_groupnorm_l1_list = []\n",
        "test_loss_groupnorm_l1_list = []\n",
        "test_acc_groupnorm_l1_list = []\n",
        "for epoch in range(1, EPOCHS+1):\n",
        "    print(\"EPOCH:\", epoch)\n",
        "    train(model_groupnorm_l1, device, train_loader, optimizer, epoch, train_loss_groupnorm_l1_list, train_acc_groupnorm_l1_list, l1_param= 0.0005 )\n",
        "    test(model_groupnorm_l1, device, test_loader, test_loss_groupnorm_l1_list, test_acc_groupnorm_l1_list )\n",
        "    scheduler.step()"
      ],
      "execution_count": 58,
      "outputs": [
        {
          "output_type": "stream",
          "text": [
            "  0%|          | 0/938 [00:00<?, ?it/s]/usr/local/lib/python3.7/dist-packages/ipykernel_launcher.py:62: UserWarning: Implicit dimension choice for log_softmax has been deprecated. Change the call to include dim=X as an argument.\n",
            "Loss=2.445645570755005 Batch_id=1 Accuracy=13.28:   0%|          | 1/938 [00:00<01:36,  9.66it/s]"
          ],
          "name": "stderr"
        },
        {
          "output_type": "stream",
          "text": [
            "EPOCH: 1\n"
          ],
          "name": "stdout"
        },
        {
          "output_type": "stream",
          "text": [
            "Loss=0.6778039932250977 Batch_id=937 Accuracy=86.48: 100%|██████████| 938/938 [01:19<00:00, 11.81it/s]\n",
            "Loss=0.4318804144859314 Batch_id=1 Accuracy=96.09:   0%|          | 2/938 [00:00<01:14, 12.49it/s]"
          ],
          "name": "stderr"
        },
        {
          "output_type": "stream",
          "text": [
            "\n",
            "Test set: Average loss: 0.1522, Accuracy: 9546/10000 (95.46%)\n",
            "\n",
            "EPOCH: 2\n"
          ],
          "name": "stdout"
        },
        {
          "output_type": "stream",
          "text": [
            "Loss=0.4916514456272125 Batch_id=937 Accuracy=92.86: 100%|██████████| 938/938 [01:19<00:00, 11.79it/s]\n",
            "Loss=0.5522448420524597 Batch_id=1 Accuracy=92.97:   0%|          | 2/938 [00:00<01:16, 12.26it/s]"
          ],
          "name": "stderr"
        },
        {
          "output_type": "stream",
          "text": [
            "\n",
            "Test set: Average loss: 0.1012, Accuracy: 9662/10000 (96.62%)\n",
            "\n",
            "EPOCH: 3\n"
          ],
          "name": "stdout"
        },
        {
          "output_type": "stream",
          "text": [
            "Loss=0.4641232490539551 Batch_id=937 Accuracy=93.43: 100%|██████████| 938/938 [01:20<00:00, 11.60it/s]\n",
            "Loss=0.436599463224411 Batch_id=1 Accuracy=92.19:   0%|          | 2/938 [00:00<01:22, 11.40it/s]"
          ],
          "name": "stderr"
        },
        {
          "output_type": "stream",
          "text": [
            "\n",
            "Test set: Average loss: 0.0948, Accuracy: 9705/10000 (97.05%)\n",
            "\n",
            "EPOCH: 4\n"
          ],
          "name": "stdout"
        },
        {
          "output_type": "stream",
          "text": [
            "Loss=0.7795044779777527 Batch_id=937 Accuracy=93.49: 100%|██████████| 938/938 [01:20<00:00, 11.67it/s]\n",
            "Loss=0.5318825244903564 Batch_id=1 Accuracy=91.41:   0%|          | 2/938 [00:00<01:17, 12.12it/s]"
          ],
          "name": "stderr"
        },
        {
          "output_type": "stream",
          "text": [
            "\n",
            "Test set: Average loss: 0.1257, Accuracy: 9592/10000 (95.92%)\n",
            "\n",
            "EPOCH: 5\n"
          ],
          "name": "stdout"
        },
        {
          "output_type": "stream",
          "text": [
            "Loss=0.5184307098388672 Batch_id=937 Accuracy=93.55: 100%|██████████| 938/938 [01:20<00:00, 11.69it/s]\n",
            "Loss=0.7042302489280701 Batch_id=1 Accuracy=90.62:   0%|          | 2/938 [00:00<01:19, 11.79it/s]"
          ],
          "name": "stderr"
        },
        {
          "output_type": "stream",
          "text": [
            "\n",
            "Test set: Average loss: 0.1019, Accuracy: 9664/10000 (96.64%)\n",
            "\n",
            "EPOCH: 6\n"
          ],
          "name": "stdout"
        },
        {
          "output_type": "stream",
          "text": [
            "Loss=0.959284782409668 Batch_id=937 Accuracy=93.64: 100%|██████████| 938/938 [01:20<00:00, 11.64it/s]\n",
            "Loss=0.46660804748535156 Batch_id=1 Accuracy=90.62:   0%|          | 2/938 [00:00<01:17, 12.08it/s]"
          ],
          "name": "stderr"
        },
        {
          "output_type": "stream",
          "text": [
            "\n",
            "Test set: Average loss: 0.0921, Accuracy: 9710/10000 (97.10%)\n",
            "\n",
            "EPOCH: 7\n"
          ],
          "name": "stdout"
        },
        {
          "output_type": "stream",
          "text": [
            "Loss=0.25128990411758423 Batch_id=937 Accuracy=96.50: 100%|██████████| 938/938 [01:20<00:00, 11.59it/s]\n",
            "Loss=0.34168487787246704 Batch_id=1 Accuracy=97.66:   0%|          | 2/938 [00:00<01:19, 11.76it/s]"
          ],
          "name": "stderr"
        },
        {
          "output_type": "stream",
          "text": [
            "\n",
            "Test set: Average loss: 0.0523, Accuracy: 9831/10000 (98.31%)\n",
            "\n",
            "EPOCH: 8\n"
          ],
          "name": "stdout"
        },
        {
          "output_type": "stream",
          "text": [
            "Loss=0.3673160970211029 Batch_id=937 Accuracy=96.63: 100%|██████████| 938/938 [01:20<00:00, 11.72it/s]\n",
            "Loss=0.29360049962997437 Batch_id=1 Accuracy=96.88:   0%|          | 2/938 [00:00<01:17, 12.04it/s]"
          ],
          "name": "stderr"
        },
        {
          "output_type": "stream",
          "text": [
            "\n",
            "Test set: Average loss: 0.0508, Accuracy: 9857/10000 (98.57%)\n",
            "\n",
            "EPOCH: 9\n"
          ],
          "name": "stdout"
        },
        {
          "output_type": "stream",
          "text": [
            "Loss=0.2300243228673935 Batch_id=937 Accuracy=96.63: 100%|██████████| 938/938 [01:20<00:00, 11.64it/s]\n",
            "Loss=0.24206700921058655 Batch_id=1 Accuracy=95.31:   0%|          | 2/938 [00:00<01:18, 11.98it/s]"
          ],
          "name": "stderr"
        },
        {
          "output_type": "stream",
          "text": [
            "\n",
            "Test set: Average loss: 0.0551, Accuracy: 9822/10000 (98.22%)\n",
            "\n",
            "EPOCH: 10\n"
          ],
          "name": "stdout"
        },
        {
          "output_type": "stream",
          "text": [
            "Loss=0.2833297550678253 Batch_id=937 Accuracy=96.49: 100%|██████████| 938/938 [01:21<00:00, 11.57it/s]\n",
            "Loss=0.22069217264652252 Batch_id=1 Accuracy=96.09:   0%|          | 2/938 [00:00<01:15, 12.40it/s]"
          ],
          "name": "stderr"
        },
        {
          "output_type": "stream",
          "text": [
            "\n",
            "Test set: Average loss: 0.0557, Accuracy: 9827/10000 (98.27%)\n",
            "\n",
            "EPOCH: 11\n"
          ],
          "name": "stdout"
        },
        {
          "output_type": "stream",
          "text": [
            "Loss=0.24164554476737976 Batch_id=937 Accuracy=96.38: 100%|██████████| 938/938 [01:20<00:00, 11.65it/s]\n",
            "Loss=0.24579954147338867 Batch_id=1 Accuracy=96.88:   0%|          | 2/938 [00:00<01:16, 12.17it/s]"
          ],
          "name": "stderr"
        },
        {
          "output_type": "stream",
          "text": [
            "\n",
            "Test set: Average loss: 0.0545, Accuracy: 9829/10000 (98.29%)\n",
            "\n",
            "EPOCH: 12\n"
          ],
          "name": "stdout"
        },
        {
          "output_type": "stream",
          "text": [
            "Loss=0.21150118112564087 Batch_id=937 Accuracy=96.41: 100%|██████████| 938/938 [01:19<00:00, 11.73it/s]\n",
            "Loss=0.3103104829788208 Batch_id=1 Accuracy=96.09:   0%|          | 2/938 [00:00<01:18, 11.89it/s]"
          ],
          "name": "stderr"
        },
        {
          "output_type": "stream",
          "text": [
            "\n",
            "Test set: Average loss: 0.0532, Accuracy: 9833/10000 (98.33%)\n",
            "\n",
            "EPOCH: 13\n"
          ],
          "name": "stdout"
        },
        {
          "output_type": "stream",
          "text": [
            "Loss=0.1627729833126068 Batch_id=937 Accuracy=97.04: 100%|██████████| 938/938 [01:20<00:00, 11.67it/s]\n",
            "Loss=0.1844974309206009 Batch_id=1 Accuracy=97.66:   0%|          | 2/938 [00:00<01:20, 11.60it/s]"
          ],
          "name": "stderr"
        },
        {
          "output_type": "stream",
          "text": [
            "\n",
            "Test set: Average loss: 0.0452, Accuracy: 9855/10000 (98.55%)\n",
            "\n",
            "EPOCH: 14\n"
          ],
          "name": "stdout"
        },
        {
          "output_type": "stream",
          "text": [
            "Loss=0.18954595923423767 Batch_id=937 Accuracy=97.23: 100%|██████████| 938/938 [01:20<00:00, 11.68it/s]\n",
            "Loss=0.23012304306030273 Batch_id=1 Accuracy=95.31:   0%|          | 2/938 [00:00<01:16, 12.27it/s]"
          ],
          "name": "stderr"
        },
        {
          "output_type": "stream",
          "text": [
            "\n",
            "Test set: Average loss: 0.0443, Accuracy: 9858/10000 (98.58%)\n",
            "\n",
            "EPOCH: 15\n"
          ],
          "name": "stdout"
        },
        {
          "output_type": "stream",
          "text": [
            "Loss=0.27302950620651245 Batch_id=937 Accuracy=97.28: 100%|██████████| 938/938 [01:19<00:00, 11.78it/s]\n",
            "Loss=0.2163516879081726 Batch_id=1 Accuracy=96.88:   0%|          | 2/938 [00:00<01:16, 12.28it/s]"
          ],
          "name": "stderr"
        },
        {
          "output_type": "stream",
          "text": [
            "\n",
            "Test set: Average loss: 0.0433, Accuracy: 9866/10000 (98.66%)\n",
            "\n",
            "EPOCH: 16\n"
          ],
          "name": "stdout"
        },
        {
          "output_type": "stream",
          "text": [
            "Loss=0.12676867842674255 Batch_id=937 Accuracy=97.25: 100%|██████████| 938/938 [01:19<00:00, 11.79it/s]\n",
            "Loss=0.1322043538093567 Batch_id=1 Accuracy=100.00:   0%|          | 2/938 [00:00<01:18, 11.90it/s]"
          ],
          "name": "stderr"
        },
        {
          "output_type": "stream",
          "text": [
            "\n",
            "Test set: Average loss: 0.0436, Accuracy: 9864/10000 (98.64%)\n",
            "\n",
            "EPOCH: 17\n"
          ],
          "name": "stdout"
        },
        {
          "output_type": "stream",
          "text": [
            "Loss=0.18007320165634155 Batch_id=937 Accuracy=97.24: 100%|██████████| 938/938 [01:20<00:00, 11.59it/s]\n",
            "Loss=0.16951759159564972 Batch_id=1 Accuracy=96.88:   0%|          | 2/938 [00:00<01:16, 12.17it/s]"
          ],
          "name": "stderr"
        },
        {
          "output_type": "stream",
          "text": [
            "\n",
            "Test set: Average loss: 0.0432, Accuracy: 9862/10000 (98.62%)\n",
            "\n",
            "EPOCH: 18\n"
          ],
          "name": "stdout"
        },
        {
          "output_type": "stream",
          "text": [
            "Loss=0.14620527625083923 Batch_id=937 Accuracy=97.22: 100%|██████████| 938/938 [01:20<00:00, 11.67it/s]\n",
            "Loss=0.18069815635681152 Batch_id=1 Accuracy=97.66:   0%|          | 2/938 [00:00<01:20, 11.68it/s]"
          ],
          "name": "stderr"
        },
        {
          "output_type": "stream",
          "text": [
            "\n",
            "Test set: Average loss: 0.0424, Accuracy: 9859/10000 (98.59%)\n",
            "\n",
            "EPOCH: 19\n"
          ],
          "name": "stdout"
        },
        {
          "output_type": "stream",
          "text": [
            "Loss=0.17035546898841858 Batch_id=937 Accuracy=97.32: 100%|██████████| 938/938 [01:20<00:00, 11.69it/s]\n",
            "Loss=0.12184788286685944 Batch_id=1 Accuracy=99.22:   0%|          | 2/938 [00:00<01:15, 12.34it/s]"
          ],
          "name": "stderr"
        },
        {
          "output_type": "stream",
          "text": [
            "\n",
            "Test set: Average loss: 0.0422, Accuracy: 9865/10000 (98.65%)\n",
            "\n",
            "EPOCH: 20\n"
          ],
          "name": "stdout"
        },
        {
          "output_type": "stream",
          "text": [
            "Loss=0.16517023742198944 Batch_id=937 Accuracy=97.46: 100%|██████████| 938/938 [01:20<00:00, 11.66it/s]\n",
            "Loss=0.13180461525917053 Batch_id=1 Accuracy=100.00:   0%|          | 2/938 [00:00<01:21, 11.55it/s]"
          ],
          "name": "stderr"
        },
        {
          "output_type": "stream",
          "text": [
            "\n",
            "Test set: Average loss: 0.0421, Accuracy: 9862/10000 (98.62%)\n",
            "\n",
            "EPOCH: 21\n"
          ],
          "name": "stdout"
        },
        {
          "output_type": "stream",
          "text": [
            "Loss=0.2715149521827698 Batch_id=937 Accuracy=97.41: 100%|██████████| 938/938 [01:20<00:00, 11.60it/s]\n",
            "Loss=0.12806999683380127 Batch_id=1 Accuracy=97.66:   0%|          | 2/938 [00:00<01:17, 12.04it/s]"
          ],
          "name": "stderr"
        },
        {
          "output_type": "stream",
          "text": [
            "\n",
            "Test set: Average loss: 0.0421, Accuracy: 9866/10000 (98.66%)\n",
            "\n",
            "EPOCH: 22\n"
          ],
          "name": "stdout"
        },
        {
          "output_type": "stream",
          "text": [
            "Loss=0.11507955193519592 Batch_id=937 Accuracy=97.34: 100%|██████████| 938/938 [01:20<00:00, 11.63it/s]\n",
            "Loss=0.18498310446739197 Batch_id=1 Accuracy=98.44:   0%|          | 2/938 [00:00<01:22, 11.36it/s]"
          ],
          "name": "stderr"
        },
        {
          "output_type": "stream",
          "text": [
            "\n",
            "Test set: Average loss: 0.0420, Accuracy: 9868/10000 (98.68%)\n",
            "\n",
            "EPOCH: 23\n"
          ],
          "name": "stdout"
        },
        {
          "output_type": "stream",
          "text": [
            "Loss=0.3002491593360901 Batch_id=937 Accuracy=97.31: 100%|██████████| 938/938 [01:20<00:00, 11.70it/s]\n",
            "Loss=0.20898258686065674 Batch_id=1 Accuracy=98.44:   0%|          | 2/938 [00:00<01:20, 11.60it/s]"
          ],
          "name": "stderr"
        },
        {
          "output_type": "stream",
          "text": [
            "\n",
            "Test set: Average loss: 0.0419, Accuracy: 9867/10000 (98.67%)\n",
            "\n",
            "EPOCH: 24\n"
          ],
          "name": "stdout"
        },
        {
          "output_type": "stream",
          "text": [
            "Loss=0.1364428997039795 Batch_id=937 Accuracy=97.46: 100%|██████████| 938/938 [01:20<00:00, 11.66it/s]\n",
            "Loss=0.16636723279953003 Batch_id=1 Accuracy=96.09:   0%|          | 2/938 [00:00<01:19, 11.70it/s]"
          ],
          "name": "stderr"
        },
        {
          "output_type": "stream",
          "text": [
            "\n",
            "Test set: Average loss: 0.0421, Accuracy: 9866/10000 (98.66%)\n",
            "\n",
            "EPOCH: 25\n"
          ],
          "name": "stdout"
        },
        {
          "output_type": "stream",
          "text": [
            "Loss=0.1650698482990265 Batch_id=937 Accuracy=97.43: 100%|██████████| 938/938 [01:19<00:00, 11.77it/s]\n"
          ],
          "name": "stderr"
        },
        {
          "output_type": "stream",
          "text": [
            "\n",
            "Test set: Average loss: 0.0420, Accuracy: 9867/10000 (98.67%)\n",
            "\n"
          ],
          "name": "stdout"
        }
      ]
    },
    {
      "cell_type": "code",
      "metadata": {
        "colab": {
          "base_uri": "https://localhost:8080/",
          "height": 732
        },
        "id": "6gmkz2a6qjTM",
        "outputId": "4e49eb08-98ec-4957-fe98-62450a91f9b2"
      },
      "source": [
        "find_plot_misclassified_images(test_loader, model_groupnorm_l1)"
      ],
      "execution_count": 47,
      "outputs": [
        {
          "output_type": "stream",
          "text": [
            "/usr/local/lib/python3.7/dist-packages/ipykernel_launcher.py:62: UserWarning: Implicit dimension choice for log_softmax has been deprecated. Change the call to include dim=X as an argument.\n"
          ],
          "name": "stderr"
        },
        {
          "output_type": "display_data",
          "data": {
            "image/png": "[encoded data removed]",
            "text/plain": [
              "<Figure size 1080x1080 with 20 Axes>"
            ]
          },
          "metadata": {
            "tags": [],
            "needs_background": "light"
          }
        }
      ]
    },
    {
      "cell_type": "markdown",
      "metadata": {
        "id": "oBXORBrF-nLr"
      },
      "source": [
        "Ananlysis\n"
      ]
    },
    {
      "cell_type": "markdown",
      "metadata": {
        "id": "TkmaHgxO-50Y"
      },
      "source": [
        "* The group normalization and L1 regularization reduced the model accuracy to 98.66%, \n",
        "  \n",
        "\n",
        "*  But the test accuracy is greater than Training accuracy."
      ]
    },
    {
      "cell_type": "code",
      "metadata": {
        "id": "XSXaA7gC-bo6"
      },
      "source": [
        ""
      ],
      "execution_count": null,
      "outputs": []
    },
    {
      "cell_type": "markdown",
      "metadata": {
        "id": "-n_vu9tu_7Vz"
      },
      "source": [
        "# Layer Normalization + L2 \n",
        "\n",
        "* The Layer normalization should add more parameters to the network, hence it should be computationally expensive. Let's observe"
      ]
    },
    {
      "cell_type": "code",
      "metadata": {
        "colab": {
          "base_uri": "https://localhost:8080/"
        },
        "id": "temyymuq_5se",
        "outputId": "71635aca-e161-4f0d-e0a2-2fb8a73e4d73"
      },
      "source": [
        "use_cuda = torch.cuda.is_available()\n",
        "device = torch.device(\"cuda\" if use_cuda else \"cpu\")\n",
        "model_layernorm_l2 = Net('LN').to(device)\n",
        "summary(model_layernorm_l2, input_size=(1, 28, 28))"
      ],
      "execution_count": 50,
      "outputs": [
        {
          "output_type": "stream",
          "text": [
            "----------------------------------------------------------------\n",
            "        Layer (type)               Output Shape         Param #\n",
            "================================================================\n",
            "            Conv2d-1           [-1, 12, 28, 28]             108\n",
            "              ReLU-2           [-1, 12, 28, 28]               0\n",
            "         LayerNorm-3           [-1, 12, 28, 28]          18,816\n",
            "         Dropout2d-4           [-1, 12, 28, 28]               0\n",
            "            Conv2d-5           [-1, 12, 28, 28]           1,296\n",
            "              ReLU-6           [-1, 12, 28, 28]               0\n",
            "         LayerNorm-7           [-1, 12, 28, 28]          18,816\n",
            "         Dropout2d-8           [-1, 12, 28, 28]               0\n",
            "         MaxPool2d-9           [-1, 12, 14, 14]               0\n",
            "           Conv2d-10           [-1, 14, 14, 14]           1,512\n",
            "             ReLU-11           [-1, 14, 14, 14]               0\n",
            "        LayerNorm-12           [-1, 14, 14, 14]           5,488\n",
            "        Dropout2d-13           [-1, 14, 14, 14]               0\n",
            "           Conv2d-14           [-1, 14, 14, 14]           1,764\n",
            "             ReLU-15           [-1, 14, 14, 14]               0\n",
            "        LayerNorm-16           [-1, 14, 14, 14]           5,488\n",
            "        Dropout2d-17           [-1, 14, 14, 14]               0\n",
            "        MaxPool2d-18             [-1, 14, 7, 7]               0\n",
            "           Conv2d-19             [-1, 14, 5, 5]           1,764\n",
            "             ReLU-20             [-1, 14, 5, 5]               0\n",
            "        LayerNorm-21             [-1, 14, 5, 5]             700\n",
            "        Dropout2d-22             [-1, 14, 5, 5]               0\n",
            "           Conv2d-23             [-1, 10, 3, 3]           1,260\n",
            "AdaptiveAvgPool2d-24             [-1, 10, 1, 1]               0\n",
            "================================================================\n",
            "Total params: 57,012\n",
            "Trainable params: 57,012\n",
            "Non-trainable params: 0\n",
            "----------------------------------------------------------------\n",
            "Input size (MB): 0.00\n",
            "Forward/backward pass size (MB): 0.78\n",
            "Params size (MB): 0.22\n",
            "Estimated Total Size (MB): 1.00\n",
            "----------------------------------------------------------------\n"
          ],
          "name": "stdout"
        },
        {
          "output_type": "stream",
          "text": [
            "/usr/local/lib/python3.7/dist-packages/ipykernel_launcher.py:62: UserWarning: Implicit dimension choice for log_softmax has been deprecated. Change the call to include dim=X as an argument.\n"
          ],
          "name": "stderr"
        }
      ]
    },
    {
      "cell_type": "code",
      "metadata": {
        "colab": {
          "base_uri": "https://localhost:8080/"
        },
        "id": "Skof9U6x-br4",
        "outputId": "cf65f15d-7594-4ba7-fad4-d7760ee2659e"
      },
      "source": [
        "model_layernorm_l2 =  Net('LN').to(device)\n",
        "optimizer = optim.SGD(model_layernorm_l2.parameters(), lr=0.19, momentum=0.9,  weight_decay=0.001)\n",
        "scheduler = StepLR(optimizer, step_size=6, gamma=0.1)\n",
        "\n",
        "EPOCHS = 25\n",
        "train_loss_layernorm_l2_list = []\n",
        "train_acc_layernorm_l2_list = []\n",
        "test_loss_layernorm_l2_list = []\n",
        "test_acc_layernorm_l2_list = []\n",
        "for epoch in range(1, EPOCHS+1):\n",
        "    print(\"EPOCH:\", epoch)\n",
        "    train(model_layernorm_l2, device, train_loader, optimizer, epoch, train_loss_layernorm_l2_list, train_acc_layernorm_l2_list )\n",
        "    test(model_layernorm_l2, device, test_loader, test_loss_layernorm_l2_list, test_acc_layernorm_l2_list)\n",
        "    scheduler.step()"
      ],
      "execution_count": 51,
      "outputs": [
        {
          "output_type": "stream",
          "text": [
            "  0%|          | 0/938 [00:00<?, ?it/s]/usr/local/lib/python3.7/dist-packages/ipykernel_launcher.py:62: UserWarning: Implicit dimension choice for log_softmax has been deprecated. Change the call to include dim=X as an argument.\n",
            "Loss=2.4590141773223877 Batch_id=1 Accuracy=14.84:   0%|          | 2/938 [00:00<01:26, 10.78it/s]"
          ],
          "name": "stderr"
        },
        {
          "output_type": "stream",
          "text": [
            "EPOCH: 1\n"
          ],
          "name": "stdout"
        },
        {
          "output_type": "stream",
          "text": [
            "Loss=0.15041647851467133 Batch_id=937 Accuracy=87.47: 100%|██████████| 938/938 [01:19<00:00, 11.80it/s]\n",
            "Loss=0.13255742192268372 Batch_id=1 Accuracy=94.53:   0%|          | 2/938 [00:00<01:20, 11.67it/s]"
          ],
          "name": "stderr"
        },
        {
          "output_type": "stream",
          "text": [
            "\n",
            "Test set: Average loss: 0.0973, Accuracy: 9724/10000 (97.24%)\n",
            "\n",
            "EPOCH: 2\n"
          ],
          "name": "stdout"
        },
        {
          "output_type": "stream",
          "text": [
            "Loss=0.10984928160905838 Batch_id=937 Accuracy=94.28: 100%|██████████| 938/938 [01:20<00:00, 11.66it/s]\n",
            "Loss=0.18875226378440857 Batch_id=1 Accuracy=93.75:   0%|          | 2/938 [00:00<01:20, 11.67it/s]"
          ],
          "name": "stderr"
        },
        {
          "output_type": "stream",
          "text": [
            "\n",
            "Test set: Average loss: 0.1298, Accuracy: 9592/10000 (95.92%)\n",
            "\n",
            "EPOCH: 3\n"
          ],
          "name": "stdout"
        },
        {
          "output_type": "stream",
          "text": [
            "Loss=0.1435028612613678 Batch_id=937 Accuracy=94.34: 100%|██████████| 938/938 [01:20<00:00, 11.64it/s]\n",
            "Loss=0.17303353548049927 Batch_id=1 Accuracy=94.53:   0%|          | 2/938 [00:00<01:16, 12.21it/s]"
          ],
          "name": "stderr"
        },
        {
          "output_type": "stream",
          "text": [
            "\n",
            "Test set: Average loss: 0.1075, Accuracy: 9681/10000 (96.81%)\n",
            "\n",
            "EPOCH: 4\n"
          ],
          "name": "stdout"
        },
        {
          "output_type": "stream",
          "text": [
            "Loss=0.08618658035993576 Batch_id=937 Accuracy=94.38: 100%|██████████| 938/938 [01:19<00:00, 11.76it/s]\n",
            "Loss=0.14238862693309784 Batch_id=1 Accuracy=89.84:   0%|          | 2/938 [00:00<01:19, 11.79it/s]"
          ],
          "name": "stderr"
        },
        {
          "output_type": "stream",
          "text": [
            "\n",
            "Test set: Average loss: 0.1118, Accuracy: 9643/10000 (96.43%)\n",
            "\n",
            "EPOCH: 5\n"
          ],
          "name": "stdout"
        },
        {
          "output_type": "stream",
          "text": [
            "Loss=0.3393368422985077 Batch_id=937 Accuracy=94.39: 100%|██████████| 938/938 [01:19<00:00, 11.77it/s]\n",
            "Loss=0.21682539582252502 Batch_id=1 Accuracy=94.53:   0%|          | 2/938 [00:00<01:21, 11.55it/s]"
          ],
          "name": "stderr"
        },
        {
          "output_type": "stream",
          "text": [
            "\n",
            "Test set: Average loss: 0.1285, Accuracy: 9596/10000 (95.96%)\n",
            "\n",
            "EPOCH: 6\n"
          ],
          "name": "stdout"
        },
        {
          "output_type": "stream",
          "text": [
            "Loss=0.18248562514781952 Batch_id=937 Accuracy=94.44: 100%|██████████| 938/938 [01:20<00:00, 11.69it/s]\n",
            "Loss=0.2318120151758194 Batch_id=1 Accuracy=96.09:   0%|          | 2/938 [00:00<01:17, 12.13it/s]"
          ],
          "name": "stderr"
        },
        {
          "output_type": "stream",
          "text": [
            "\n",
            "Test set: Average loss: 0.1230, Accuracy: 9630/10000 (96.30%)\n",
            "\n",
            "EPOCH: 7\n"
          ],
          "name": "stdout"
        },
        {
          "output_type": "stream",
          "text": [
            "Loss=0.07061098515987396 Batch_id=937 Accuracy=97.17: 100%|██████████| 938/938 [01:22<00:00, 11.41it/s]\n",
            "Loss=0.09542013704776764 Batch_id=1 Accuracy=96.88:   0%|          | 2/938 [00:00<01:19, 11.78it/s]"
          ],
          "name": "stderr"
        },
        {
          "output_type": "stream",
          "text": [
            "\n",
            "Test set: Average loss: 0.0488, Accuracy: 9861/10000 (98.61%)\n",
            "\n",
            "EPOCH: 8\n"
          ],
          "name": "stdout"
        },
        {
          "output_type": "stream",
          "text": [
            "Loss=0.03092682734131813 Batch_id=937 Accuracy=97.69: 100%|██████████| 938/938 [01:22<00:00, 11.42it/s]\n",
            "Loss=0.11069803684949875 Batch_id=1 Accuracy=96.88:   0%|          | 2/938 [00:00<01:19, 11.84it/s]"
          ],
          "name": "stderr"
        },
        {
          "output_type": "stream",
          "text": [
            "\n",
            "Test set: Average loss: 0.0480, Accuracy: 9863/10000 (98.63%)\n",
            "\n",
            "EPOCH: 9\n"
          ],
          "name": "stdout"
        },
        {
          "output_type": "stream",
          "text": [
            "Loss=0.11884834617376328 Batch_id=937 Accuracy=97.85: 100%|██████████| 938/938 [01:23<00:00, 11.20it/s]\n",
            "Loss=0.034083954989910126 Batch_id=1 Accuracy=98.44:   0%|          | 2/938 [00:00<01:23, 11.25it/s]"
          ],
          "name": "stderr"
        },
        {
          "output_type": "stream",
          "text": [
            "\n",
            "Test set: Average loss: 0.0460, Accuracy: 9867/10000 (98.67%)\n",
            "\n",
            "EPOCH: 10\n"
          ],
          "name": "stdout"
        },
        {
          "output_type": "stream",
          "text": [
            "Loss=0.11813367158174515 Batch_id=937 Accuracy=97.72: 100%|██████████| 938/938 [01:24<00:00, 11.13it/s]\n",
            "Loss=0.08392443507909775 Batch_id=1 Accuracy=98.44:   0%|          | 2/938 [00:00<01:21, 11.55it/s]"
          ],
          "name": "stderr"
        },
        {
          "output_type": "stream",
          "text": [
            "\n",
            "Test set: Average loss: 0.0497, Accuracy: 9863/10000 (98.63%)\n",
            "\n",
            "EPOCH: 11\n"
          ],
          "name": "stdout"
        },
        {
          "output_type": "stream",
          "text": [
            "Loss=0.07964236289262772 Batch_id=937 Accuracy=97.64: 100%|██████████| 938/938 [01:21<00:00, 11.46it/s]\n",
            "Loss=0.042890515178442 Batch_id=1 Accuracy=99.22:   0%|          | 2/938 [00:00<01:18, 11.86it/s]"
          ],
          "name": "stderr"
        },
        {
          "output_type": "stream",
          "text": [
            "\n",
            "Test set: Average loss: 0.0486, Accuracy: 9856/10000 (98.56%)\n",
            "\n",
            "EPOCH: 12\n"
          ],
          "name": "stdout"
        },
        {
          "output_type": "stream",
          "text": [
            "Loss=0.013672737404704094 Batch_id=937 Accuracy=97.69: 100%|██████████| 938/938 [01:22<00:00, 11.33it/s]\n",
            "Loss=0.1010052040219307 Batch_id=1 Accuracy=99.22:   0%|          | 2/938 [00:00<01:24, 11.11it/s]"
          ],
          "name": "stderr"
        },
        {
          "output_type": "stream",
          "text": [
            "\n",
            "Test set: Average loss: 0.0500, Accuracy: 9848/10000 (98.48%)\n",
            "\n",
            "EPOCH: 13\n"
          ],
          "name": "stdout"
        },
        {
          "output_type": "stream",
          "text": [
            "Loss=0.014287428930401802 Batch_id=937 Accuracy=98.27: 100%|██████████| 938/938 [01:21<00:00, 11.50it/s]\n",
            "Loss=0.031820084899663925 Batch_id=1 Accuracy=99.22:   0%|          | 2/938 [00:00<01:21, 11.43it/s]"
          ],
          "name": "stderr"
        },
        {
          "output_type": "stream",
          "text": [
            "\n",
            "Test set: Average loss: 0.0343, Accuracy: 9892/10000 (98.92%)\n",
            "\n",
            "EPOCH: 14\n"
          ],
          "name": "stdout"
        },
        {
          "output_type": "stream",
          "text": [
            "Loss=0.04449058324098587 Batch_id=937 Accuracy=98.53: 100%|██████████| 938/938 [01:21<00:00, 11.50it/s]\n",
            "Loss=0.07611031830310822 Batch_id=1 Accuracy=97.66:   0%|          | 2/938 [00:00<01:15, 12.37it/s]"
          ],
          "name": "stderr"
        },
        {
          "output_type": "stream",
          "text": [
            "\n",
            "Test set: Average loss: 0.0320, Accuracy: 9889/10000 (98.89%)\n",
            "\n",
            "EPOCH: 15\n"
          ],
          "name": "stdout"
        },
        {
          "output_type": "stream",
          "text": [
            "Loss=0.039945416152477264 Batch_id=937 Accuracy=98.58: 100%|██████████| 938/938 [01:20<00:00, 11.68it/s]\n",
            "Loss=0.016629638150334358 Batch_id=1 Accuracy=100.00:   0%|          | 2/938 [00:00<01:17, 12.03it/s]"
          ],
          "name": "stderr"
        },
        {
          "output_type": "stream",
          "text": [
            "\n",
            "Test set: Average loss: 0.0300, Accuracy: 9901/10000 (99.01%)\n",
            "\n",
            "EPOCH: 16\n"
          ],
          "name": "stdout"
        },
        {
          "output_type": "stream",
          "text": [
            "Loss=0.020183321088552475 Batch_id=937 Accuracy=98.60: 100%|██████████| 938/938 [01:19<00:00, 11.79it/s]\n",
            "Loss=0.018957100808620453 Batch_id=1 Accuracy=98.44:   0%|          | 2/938 [00:00<01:21, 11.46it/s]"
          ],
          "name": "stderr"
        },
        {
          "output_type": "stream",
          "text": [
            "\n",
            "Test set: Average loss: 0.0299, Accuracy: 9897/10000 (98.97%)\n",
            "\n",
            "EPOCH: 17\n"
          ],
          "name": "stdout"
        },
        {
          "output_type": "stream",
          "text": [
            "Loss=0.0315035916864872 Batch_id=937 Accuracy=98.66: 100%|██████████| 938/938 [01:19<00:00, 11.80it/s]\n",
            "Loss=0.03241395205259323 Batch_id=1 Accuracy=100.00:   0%|          | 2/938 [00:00<01:20, 11.56it/s]"
          ],
          "name": "stderr"
        },
        {
          "output_type": "stream",
          "text": [
            "\n",
            "Test set: Average loss: 0.0289, Accuracy: 9906/10000 (99.06%)\n",
            "\n",
            "EPOCH: 18\n"
          ],
          "name": "stdout"
        },
        {
          "output_type": "stream",
          "text": [
            "Loss=0.011125150136649609 Batch_id=937 Accuracy=98.61: 100%|██████████| 938/938 [01:19<00:00, 11.80it/s]\n",
            "Loss=0.10362136363983154 Batch_id=1 Accuracy=98.44:   0%|          | 2/938 [00:00<01:16, 12.20it/s]"
          ],
          "name": "stderr"
        },
        {
          "output_type": "stream",
          "text": [
            "\n",
            "Test set: Average loss: 0.0290, Accuracy: 9905/10000 (99.05%)\n",
            "\n",
            "EPOCH: 19\n"
          ],
          "name": "stdout"
        },
        {
          "output_type": "stream",
          "text": [
            "Loss=0.035450976341962814 Batch_id=937 Accuracy=98.75: 100%|██████████| 938/938 [01:19<00:00, 11.78it/s]\n",
            "Loss=0.022094503045082092 Batch_id=1 Accuracy=99.22:   0%|          | 2/938 [00:00<01:22, 11.40it/s]"
          ],
          "name": "stderr"
        },
        {
          "output_type": "stream",
          "text": [
            "\n",
            "Test set: Average loss: 0.0276, Accuracy: 9914/10000 (99.14%)\n",
            "\n",
            "EPOCH: 20\n"
          ],
          "name": "stdout"
        },
        {
          "output_type": "stream",
          "text": [
            "Loss=0.018276216462254524 Batch_id=937 Accuracy=98.82: 100%|██████████| 938/938 [01:20<00:00, 11.72it/s]\n",
            "Loss=0.07188492268323898 Batch_id=1 Accuracy=99.22:   0%|          | 2/938 [00:00<01:21, 11.55it/s]"
          ],
          "name": "stderr"
        },
        {
          "output_type": "stream",
          "text": [
            "\n",
            "Test set: Average loss: 0.0274, Accuracy: 9912/10000 (99.12%)\n",
            "\n",
            "EPOCH: 21\n"
          ],
          "name": "stdout"
        },
        {
          "output_type": "stream",
          "text": [
            "Loss=0.113954558968544 Batch_id=937 Accuracy=98.82: 100%|██████████| 938/938 [01:20<00:00, 11.64it/s]\n",
            "Loss=0.020706580951809883 Batch_id=1 Accuracy=99.22:   0%|          | 2/938 [00:00<01:18, 11.86it/s]"
          ],
          "name": "stderr"
        },
        {
          "output_type": "stream",
          "text": [
            "\n",
            "Test set: Average loss: 0.0271, Accuracy: 9914/10000 (99.14%)\n",
            "\n",
            "EPOCH: 22\n"
          ],
          "name": "stdout"
        },
        {
          "output_type": "stream",
          "text": [
            "Loss=0.01781339757144451 Batch_id=937 Accuracy=98.79: 100%|██████████| 938/938 [01:19<00:00, 11.80it/s]\n",
            "Loss=0.0673845186829567 Batch_id=1 Accuracy=98.44:   0%|          | 2/938 [00:00<01:21, 11.43it/s]"
          ],
          "name": "stderr"
        },
        {
          "output_type": "stream",
          "text": [
            "\n",
            "Test set: Average loss: 0.0269, Accuracy: 9913/10000 (99.13%)\n",
            "\n",
            "EPOCH: 23\n"
          ],
          "name": "stdout"
        },
        {
          "output_type": "stream",
          "text": [
            "Loss=0.011486670933663845 Batch_id=937 Accuracy=98.84: 100%|██████████| 938/938 [01:20<00:00, 11.71it/s]\n",
            "Loss=0.05292060598731041 Batch_id=1 Accuracy=99.22:   0%|          | 2/938 [00:00<01:16, 12.21it/s]"
          ],
          "name": "stderr"
        },
        {
          "output_type": "stream",
          "text": [
            "\n",
            "Test set: Average loss: 0.0269, Accuracy: 9915/10000 (99.15%)\n",
            "\n",
            "EPOCH: 24\n"
          ],
          "name": "stdout"
        },
        {
          "output_type": "stream",
          "text": [
            "Loss=0.18243061006069183 Batch_id=937 Accuracy=98.80: 100%|██████████| 938/938 [01:20<00:00, 11.70it/s]\n",
            "Loss=0.03141341730952263 Batch_id=1 Accuracy=100.00:   0%|          | 2/938 [00:00<01:24, 11.01it/s]"
          ],
          "name": "stderr"
        },
        {
          "output_type": "stream",
          "text": [
            "\n",
            "Test set: Average loss: 0.0267, Accuracy: 9917/10000 (99.17%)\n",
            "\n",
            "EPOCH: 25\n"
          ],
          "name": "stdout"
        },
        {
          "output_type": "stream",
          "text": [
            "Loss=0.015662746503949165 Batch_id=937 Accuracy=98.86: 100%|██████████| 938/938 [01:19<00:00, 11.73it/s]\n"
          ],
          "name": "stderr"
        },
        {
          "output_type": "stream",
          "text": [
            "\n",
            "Test set: Average loss: 0.0267, Accuracy: 9917/10000 (99.17%)\n",
            "\n"
          ],
          "name": "stdout"
        }
      ]
    },
    {
      "cell_type": "markdown",
      "metadata": {
        "id": "_s0ODI3qBP1Z"
      },
      "source": [
        "# Aanalysis\n",
        "\n",
        "* The Layer normalization and L2 regularization improved the accuracy to 99.19%"
      ]
    },
    {
      "cell_type": "code",
      "metadata": {
        "colab": {
          "base_uri": "https://localhost:8080/",
          "height": 732
        },
        "id": "XHLTRb0t-bxy",
        "outputId": "8cbf690b-8eca-48ff-823e-cc6bdfdbd1ad"
      },
      "source": [
        "find_plot_misclassified_images(test_loader, model_layernorm_l2)"
      ],
      "execution_count": 52,
      "outputs": [
        {
          "output_type": "stream",
          "text": [
            "/usr/local/lib/python3.7/dist-packages/ipykernel_launcher.py:62: UserWarning: Implicit dimension choice for log_softmax has been deprecated. Change the call to include dim=X as an argument.\n"
          ],
          "name": "stderr"
        },
        {
          "output_type": "display_data",
          "data": {
            "image/png": "[encoded data removed]",
            "text/plain": [
              "<Figure size 1080x1080 with 20 Axes>"
            ]
          },
          "metadata": {
            "tags": [],
            "needs_background": "light"
          }
        }
      ]
    },
    {
      "cell_type": "code",
      "metadata": {
        "id": "7nlIEnYq-b0q"
      },
      "source": [
        ""
      ],
      "execution_count": null,
      "outputs": []
    },
    {
      "cell_type": "markdown",
      "metadata": {
        "id": "uODKYLMbBlyJ"
      },
      "source": [
        "# Batch Normalization L1 + L2\n",
        "\n",
        "* The below code has been designed to include the our own Batch Normalization with both L1 & L2 regularization\n",
        "\n"
      ]
    },
    {
      "cell_type": "code",
      "metadata": {
        "colab": {
          "base_uri": "https://localhost:8080/"
        },
        "id": "YcwR1naR-b3v",
        "outputId": "30fb6bd3-cc3f-4c49-c855-a1c7fbc819ed"
      },
      "source": [
        "use_cuda = torch.cuda.is_available()\n",
        "device = torch.device(\"cuda\" if use_cuda else \"cpu\")\n",
        "model_batchnorm_l1_l2 = Net('BN').to(device)\n",
        "summary(model_batchnorm_l1_l2, input_size=(1, 28, 28))"
      ],
      "execution_count": 53,
      "outputs": [
        {
          "output_type": "stream",
          "text": [
            "----------------------------------------------------------------\n",
            "        Layer (type)               Output Shape         Param #\n",
            "================================================================\n",
            "            Conv2d-1           [-1, 12, 28, 28]             108\n",
            "              ReLU-2           [-1, 12, 28, 28]               0\n",
            "       BatchNorm2d-3           [-1, 12, 28, 28]              24\n",
            "         Dropout2d-4           [-1, 12, 28, 28]               0\n",
            "            Conv2d-5           [-1, 12, 28, 28]           1,296\n",
            "              ReLU-6           [-1, 12, 28, 28]               0\n",
            "       BatchNorm2d-7           [-1, 12, 28, 28]              24\n",
            "         Dropout2d-8           [-1, 12, 28, 28]               0\n",
            "         MaxPool2d-9           [-1, 12, 14, 14]               0\n",
            "           Conv2d-10           [-1, 14, 14, 14]           1,512\n",
            "             ReLU-11           [-1, 14, 14, 14]               0\n",
            "      BatchNorm2d-12           [-1, 14, 14, 14]              28\n",
            "        Dropout2d-13           [-1, 14, 14, 14]               0\n",
            "           Conv2d-14           [-1, 14, 14, 14]           1,764\n",
            "             ReLU-15           [-1, 14, 14, 14]               0\n",
            "      BatchNorm2d-16           [-1, 14, 14, 14]              28\n",
            "        Dropout2d-17           [-1, 14, 14, 14]               0\n",
            "        MaxPool2d-18             [-1, 14, 7, 7]               0\n",
            "           Conv2d-19             [-1, 14, 5, 5]           1,764\n",
            "             ReLU-20             [-1, 14, 5, 5]               0\n",
            "      BatchNorm2d-21             [-1, 14, 5, 5]              28\n",
            "        Dropout2d-22             [-1, 14, 5, 5]               0\n",
            "           Conv2d-23             [-1, 10, 3, 3]           1,260\n",
            "AdaptiveAvgPool2d-24             [-1, 10, 1, 1]               0\n",
            "================================================================\n",
            "Total params: 7,836\n",
            "Trainable params: 7,836\n",
            "Non-trainable params: 0\n",
            "----------------------------------------------------------------\n",
            "Input size (MB): 0.00\n",
            "Forward/backward pass size (MB): 0.78\n",
            "Params size (MB): 0.03\n",
            "Estimated Total Size (MB): 0.81\n",
            "----------------------------------------------------------------\n"
          ],
          "name": "stdout"
        },
        {
          "output_type": "stream",
          "text": [
            "/usr/local/lib/python3.7/dist-packages/ipykernel_launcher.py:62: UserWarning: Implicit dimension choice for log_softmax has been deprecated. Change the call to include dim=X as an argument.\n"
          ],
          "name": "stderr"
        }
      ]
    },
    {
      "cell_type": "code",
      "metadata": {
        "colab": {
          "base_uri": "https://localhost:8080/"
        },
        "id": "x9CniRss-b7M",
        "outputId": "fa39c69c-45a3-4d42-97a3-79f6fc35402a"
      },
      "source": [
        "model_layernorm_l2 =  Net('BN').to(device)\n",
        "optimizer = optim.SGD(model_layernorm_l2.parameters(), lr=0.19, momentum=0.9,  weight_decay=0.001)\n",
        "scheduler = StepLR(optimizer, step_size=6, gamma=0.1)\n",
        "\n",
        "EPOCHS = 25\n",
        "train_loss_batchnorm_l1_l2_list = []\n",
        "train_acc_batchnorm_l1_l2_list = []\n",
        "test_loss_batchnorm_l1_l2_list = []\n",
        "test_acc_batchnorm_l1_l2_list = []\n",
        "for epoch in range(1, EPOCHS+1):\n",
        "    print(\"EPOCH:\", epoch)\n",
        "    train(model_layernorm_l2, device, train_loader, optimizer, epoch, train_loss_batchnorm_l1_l2_list, train_acc_batchnorm_l1_l2_list, l1_param= 0.0005 )\n",
        "    test(model_layernorm_l2, device, test_loader, test_loss_batchnorm_l1_l2_list, test_acc_batchnorm_l1_l2_list)\n",
        "    scheduler.step()"
      ],
      "execution_count": 54,
      "outputs": [
        {
          "output_type": "stream",
          "text": [
            "  0%|          | 0/938 [00:00<?, ?it/s]/usr/local/lib/python3.7/dist-packages/ipykernel_launcher.py:62: UserWarning: Implicit dimension choice for log_softmax has been deprecated. Change the call to include dim=X as an argument.\n",
            "Loss=2.4937376976013184 Batch_id=1 Accuracy=11.72:   0%|          | 1/938 [00:00<01:36,  9.70it/s]"
          ],
          "name": "stderr"
        },
        {
          "output_type": "stream",
          "text": [
            "EPOCH: 1\n"
          ],
          "name": "stdout"
        },
        {
          "output_type": "stream",
          "text": [
            "Loss=0.405132532119751 Batch_id=937 Accuracy=90.89: 100%|██████████| 938/938 [01:28<00:00, 10.59it/s]\n",
            "Loss=0.5707768797874451 Batch_id=1 Accuracy=90.62:   0%|          | 2/938 [00:00<01:26, 10.80it/s]"
          ],
          "name": "stderr"
        },
        {
          "output_type": "stream",
          "text": [
            "\n",
            "Test set: Average loss: 0.1362, Accuracy: 9562/10000 (95.62%)\n",
            "\n",
            "EPOCH: 2\n"
          ],
          "name": "stdout"
        },
        {
          "output_type": "stream",
          "text": [
            "Loss=0.5548650622367859 Batch_id=937 Accuracy=93.28: 100%|██████████| 938/938 [01:28<00:00, 10.55it/s]\n",
            "Loss=0.6204773187637329 Batch_id=1 Accuracy=92.97:   0%|          | 1/938 [00:00<01:36,  9.71it/s]"
          ],
          "name": "stderr"
        },
        {
          "output_type": "stream",
          "text": [
            "\n",
            "Test set: Average loss: 0.1132, Accuracy: 9685/10000 (96.85%)\n",
            "\n",
            "EPOCH: 3\n"
          ],
          "name": "stdout"
        },
        {
          "output_type": "stream",
          "text": [
            "Loss=0.5075289011001587 Batch_id=937 Accuracy=93.57: 100%|██████████| 938/938 [01:28<00:00, 10.58it/s]\n",
            "Loss=0.44807159900665283 Batch_id=1 Accuracy=92.19:   0%|          | 2/938 [00:00<01:28, 10.60it/s]"
          ],
          "name": "stderr"
        },
        {
          "output_type": "stream",
          "text": [
            "\n",
            "Test set: Average loss: 0.2020, Accuracy: 9348/10000 (93.48%)\n",
            "\n",
            "EPOCH: 4\n"
          ],
          "name": "stdout"
        },
        {
          "output_type": "stream",
          "text": [
            "Loss=0.5396201014518738 Batch_id=937 Accuracy=93.41: 100%|██████████| 938/938 [01:29<00:00, 10.49it/s]\n",
            "Loss=0.4463557004928589 Batch_id=1 Accuracy=96.09:   0%|          | 2/938 [00:00<01:27, 10.67it/s]"
          ],
          "name": "stderr"
        },
        {
          "output_type": "stream",
          "text": [
            "\n",
            "Test set: Average loss: 0.0913, Accuracy: 9719/10000 (97.19%)\n",
            "\n",
            "EPOCH: 5\n"
          ],
          "name": "stdout"
        },
        {
          "output_type": "stream",
          "text": [
            "Loss=0.6361565589904785 Batch_id=937 Accuracy=93.45: 100%|██████████| 938/938 [01:28<00:00, 10.56it/s]\n",
            "Loss=0.44521355628967285 Batch_id=1 Accuracy=93.75:   0%|          | 2/938 [00:00<01:27, 10.65it/s]"
          ],
          "name": "stderr"
        },
        {
          "output_type": "stream",
          "text": [
            "\n",
            "Test set: Average loss: 0.0870, Accuracy: 9736/10000 (97.36%)\n",
            "\n",
            "EPOCH: 6\n"
          ],
          "name": "stdout"
        },
        {
          "output_type": "stream",
          "text": [
            "Loss=0.6015712022781372 Batch_id=937 Accuracy=93.36: 100%|██████████| 938/938 [01:28<00:00, 10.65it/s]\n",
            "Loss=0.45313501358032227 Batch_id=1 Accuracy=94.53:   0%|          | 2/938 [00:00<01:25, 10.94it/s]"
          ],
          "name": "stderr"
        },
        {
          "output_type": "stream",
          "text": [
            "\n",
            "Test set: Average loss: 0.1033, Accuracy: 9660/10000 (96.60%)\n",
            "\n",
            "EPOCH: 7\n"
          ],
          "name": "stdout"
        },
        {
          "output_type": "stream",
          "text": [
            "Loss=0.2587040960788727 Batch_id=937 Accuracy=97.06: 100%|██████████| 938/938 [01:27<00:00, 10.72it/s]\n",
            "Loss=0.26593711972236633 Batch_id=1 Accuracy=96.88:   0%|          | 2/938 [00:00<01:26, 10.78it/s]"
          ],
          "name": "stderr"
        },
        {
          "output_type": "stream",
          "text": [
            "\n",
            "Test set: Average loss: 0.0463, Accuracy: 9860/10000 (98.60%)\n",
            "\n",
            "EPOCH: 8\n"
          ],
          "name": "stdout"
        },
        {
          "output_type": "stream",
          "text": [
            "Loss=0.19029763340950012 Batch_id=937 Accuracy=97.14: 100%|██████████| 938/938 [01:28<00:00, 10.61it/s]\n",
            "Loss=0.20404765009880066 Batch_id=1 Accuracy=97.66:   0%|          | 2/938 [00:00<01:27, 10.64it/s]"
          ],
          "name": "stderr"
        },
        {
          "output_type": "stream",
          "text": [
            "\n",
            "Test set: Average loss: 0.0660, Accuracy: 9804/10000 (98.04%)\n",
            "\n",
            "EPOCH: 9\n"
          ],
          "name": "stdout"
        },
        {
          "output_type": "stream",
          "text": [
            "Loss=0.3224867582321167 Batch_id=937 Accuracy=96.92: 100%|██████████| 938/938 [01:28<00:00, 10.63it/s]\n",
            "Loss=0.22820648550987244 Batch_id=1 Accuracy=98.44:   0%|          | 2/938 [00:00<01:25, 10.91it/s]"
          ],
          "name": "stderr"
        },
        {
          "output_type": "stream",
          "text": [
            "\n",
            "Test set: Average loss: 0.0485, Accuracy: 9855/10000 (98.55%)\n",
            "\n",
            "EPOCH: 10\n"
          ],
          "name": "stdout"
        },
        {
          "output_type": "stream",
          "text": [
            "Loss=0.17678509652614594 Batch_id=937 Accuracy=96.86: 100%|██████████| 938/938 [01:28<00:00, 10.65it/s]\n",
            "Loss=0.21299520134925842 Batch_id=1 Accuracy=98.44:   0%|          | 2/938 [00:00<01:26, 10.87it/s]"
          ],
          "name": "stderr"
        },
        {
          "output_type": "stream",
          "text": [
            "\n",
            "Test set: Average loss: 0.0556, Accuracy: 9836/10000 (98.36%)\n",
            "\n",
            "EPOCH: 11\n"
          ],
          "name": "stdout"
        },
        {
          "output_type": "stream",
          "text": [
            "Loss=0.21567735075950623 Batch_id=937 Accuracy=96.78: 100%|██████████| 938/938 [01:27<00:00, 10.67it/s]\n",
            "Loss=0.2454339563846588 Batch_id=1 Accuracy=98.44:   0%|          | 1/938 [00:00<01:33,  9.99it/s] "
          ],
          "name": "stderr"
        },
        {
          "output_type": "stream",
          "text": [
            "\n",
            "Test set: Average loss: 0.0554, Accuracy: 9832/10000 (98.32%)\n",
            "\n",
            "EPOCH: 12\n"
          ],
          "name": "stdout"
        },
        {
          "output_type": "stream",
          "text": [
            "Loss=0.21532641351222992 Batch_id=937 Accuracy=96.91: 100%|██████████| 938/938 [01:27<00:00, 10.68it/s]\n",
            "Loss=0.25024062395095825 Batch_id=1 Accuracy=93.75:   0%|          | 2/938 [00:00<01:25, 10.93it/s]"
          ],
          "name": "stderr"
        },
        {
          "output_type": "stream",
          "text": [
            "\n",
            "Test set: Average loss: 0.0553, Accuracy: 9834/10000 (98.34%)\n",
            "\n",
            "EPOCH: 13\n"
          ],
          "name": "stdout"
        },
        {
          "output_type": "stream",
          "text": [
            "Loss=0.2311910092830658 Batch_id=937 Accuracy=97.89: 100%|██████████| 938/938 [01:27<00:00, 10.68it/s]\n",
            "Loss=0.20870107412338257 Batch_id=1 Accuracy=97.66:   0%|          | 2/938 [00:00<01:25, 10.89it/s]"
          ],
          "name": "stderr"
        },
        {
          "output_type": "stream",
          "text": [
            "\n",
            "Test set: Average loss: 0.0326, Accuracy: 9887/10000 (98.87%)\n",
            "\n",
            "EPOCH: 14\n"
          ],
          "name": "stdout"
        },
        {
          "output_type": "stream",
          "text": [
            "Loss=0.1486407369375229 Batch_id=937 Accuracy=97.99: 100%|██████████| 938/938 [01:28<00:00, 10.59it/s]\n",
            "Loss=0.15614770352840424 Batch_id=1 Accuracy=96.88:   0%|          | 2/938 [00:00<01:28, 10.63it/s]"
          ],
          "name": "stderr"
        },
        {
          "output_type": "stream",
          "text": [
            "\n",
            "Test set: Average loss: 0.0321, Accuracy: 9895/10000 (98.95%)\n",
            "\n",
            "EPOCH: 15\n"
          ],
          "name": "stdout"
        },
        {
          "output_type": "stream",
          "text": [
            "Loss=0.12429779022932053 Batch_id=937 Accuracy=98.05: 100%|██████████| 938/938 [01:28<00:00, 10.55it/s]\n",
            "Loss=0.17097538709640503 Batch_id=1 Accuracy=99.22:   0%|          | 2/938 [00:00<01:25, 10.90it/s]"
          ],
          "name": "stderr"
        },
        {
          "output_type": "stream",
          "text": [
            "\n",
            "Test set: Average loss: 0.0353, Accuracy: 9890/10000 (98.90%)\n",
            "\n",
            "EPOCH: 16\n"
          ],
          "name": "stdout"
        },
        {
          "output_type": "stream",
          "text": [
            "Loss=0.1254633069038391 Batch_id=937 Accuracy=98.13: 100%|██████████| 938/938 [01:28<00:00, 10.54it/s]\n",
            "Loss=0.16440436244010925 Batch_id=1 Accuracy=97.66:   0%|          | 2/938 [00:00<01:26, 10.76it/s]"
          ],
          "name": "stderr"
        },
        {
          "output_type": "stream",
          "text": [
            "\n",
            "Test set: Average loss: 0.0313, Accuracy: 9899/10000 (98.99%)\n",
            "\n",
            "EPOCH: 17\n"
          ],
          "name": "stdout"
        },
        {
          "output_type": "stream",
          "text": [
            "Loss=0.3247750997543335 Batch_id=937 Accuracy=98.01: 100%|██████████| 938/938 [01:29<00:00, 10.52it/s]\n",
            "Loss=0.12142439186573029 Batch_id=1 Accuracy=100.00:   0%|          | 2/938 [00:00<01:26, 10.79it/s]"
          ],
          "name": "stderr"
        },
        {
          "output_type": "stream",
          "text": [
            "\n",
            "Test set: Average loss: 0.0326, Accuracy: 9892/10000 (98.92%)\n",
            "\n",
            "EPOCH: 18\n"
          ],
          "name": "stdout"
        },
        {
          "output_type": "stream",
          "text": [
            "Loss=0.13654570281505585 Batch_id=937 Accuracy=97.97: 100%|██████████| 938/938 [01:28<00:00, 10.55it/s]\n",
            "Loss=0.14567555487155914 Batch_id=1 Accuracy=96.88:   0%|          | 2/938 [00:00<01:27, 10.75it/s]"
          ],
          "name": "stderr"
        },
        {
          "output_type": "stream",
          "text": [
            "\n",
            "Test set: Average loss: 0.0344, Accuracy: 9891/10000 (98.91%)\n",
            "\n",
            "EPOCH: 19\n"
          ],
          "name": "stdout"
        },
        {
          "output_type": "stream",
          "text": [
            "Loss=0.1395324468612671 Batch_id=937 Accuracy=98.19: 100%|██████████| 938/938 [01:28<00:00, 10.64it/s]\n",
            "Loss=0.1743178516626358 Batch_id=1 Accuracy=98.44:   0%|          | 2/938 [00:00<01:23, 11.27it/s]"
          ],
          "name": "stderr"
        },
        {
          "output_type": "stream",
          "text": [
            "\n",
            "Test set: Average loss: 0.0296, Accuracy: 9903/10000 (99.03%)\n",
            "\n",
            "EPOCH: 20\n"
          ],
          "name": "stdout"
        },
        {
          "output_type": "stream",
          "text": [
            "Loss=0.4263039231300354 Batch_id=937 Accuracy=98.30: 100%|██████████| 938/938 [01:27<00:00, 10.67it/s]\n",
            "Loss=0.118135005235672 Batch_id=1 Accuracy=98.44:   0%|          | 2/938 [00:00<01:24, 11.02it/s]"
          ],
          "name": "stderr"
        },
        {
          "output_type": "stream",
          "text": [
            "\n",
            "Test set: Average loss: 0.0273, Accuracy: 9904/10000 (99.04%)\n",
            "\n",
            "EPOCH: 21\n"
          ],
          "name": "stdout"
        },
        {
          "output_type": "stream",
          "text": [
            "Loss=0.21988503634929657 Batch_id=937 Accuracy=98.30: 100%|██████████| 938/938 [01:31<00:00, 10.24it/s]\n",
            "Loss=0.17829826474189758 Batch_id=1 Accuracy=98.44:   0%|          | 2/938 [00:00<01:28, 10.60it/s]"
          ],
          "name": "stderr"
        },
        {
          "output_type": "stream",
          "text": [
            "\n",
            "Test set: Average loss: 0.0272, Accuracy: 9902/10000 (99.02%)\n",
            "\n",
            "EPOCH: 22\n"
          ],
          "name": "stdout"
        },
        {
          "output_type": "stream",
          "text": [
            "Loss=0.12863501906394958 Batch_id=937 Accuracy=98.26: 100%|██████████| 938/938 [01:30<00:00, 10.35it/s]\n",
            "Loss=0.09516644477844238 Batch_id=0 Accuracy=100.00:   0%|          | 1/938 [00:00<01:40,  9.33it/s]"
          ],
          "name": "stderr"
        },
        {
          "output_type": "stream",
          "text": [
            "\n",
            "Test set: Average loss: 0.0274, Accuracy: 9908/10000 (99.08%)\n",
            "\n",
            "EPOCH: 23\n"
          ],
          "name": "stdout"
        },
        {
          "output_type": "stream",
          "text": [
            "Loss=0.10630889236927032 Batch_id=937 Accuracy=98.31: 100%|██████████| 938/938 [01:30<00:00, 10.33it/s]\n",
            "Loss=0.15829196572303772 Batch_id=1 Accuracy=97.66:   0%|          | 2/938 [00:00<01:28, 10.61it/s]"
          ],
          "name": "stderr"
        },
        {
          "output_type": "stream",
          "text": [
            "\n",
            "Test set: Average loss: 0.0278, Accuracy: 9911/10000 (99.11%)\n",
            "\n",
            "EPOCH: 24\n"
          ],
          "name": "stdout"
        },
        {
          "output_type": "stream",
          "text": [
            "Loss=0.13819727301597595 Batch_id=937 Accuracy=98.25: 100%|██████████| 938/938 [01:30<00:00, 10.34it/s]\n",
            "Loss=0.1524536907672882 Batch_id=1 Accuracy=96.88:   0%|          | 2/938 [00:00<01:30, 10.36it/s]"
          ],
          "name": "stderr"
        },
        {
          "output_type": "stream",
          "text": [
            "\n",
            "Test set: Average loss: 0.0283, Accuracy: 9907/10000 (99.07%)\n",
            "\n",
            "EPOCH: 25\n"
          ],
          "name": "stdout"
        },
        {
          "output_type": "stream",
          "text": [
            "Loss=0.11245587468147278 Batch_id=937 Accuracy=98.37: 100%|██████████| 938/938 [01:30<00:00, 10.42it/s]\n"
          ],
          "name": "stderr"
        },
        {
          "output_type": "stream",
          "text": [
            "\n",
            "Test set: Average loss: 0.0273, Accuracy: 9910/10000 (99.10%)\n",
            "\n"
          ],
          "name": "stdout"
        }
      ]
    },
    {
      "cell_type": "code",
      "metadata": {
        "colab": {
          "base_uri": "https://localhost:8080/",
          "height": 732
        },
        "id": "ka6SThdfBxpn",
        "outputId": "318d386e-64c8-4316-e7a4-1d5ea8021fd9"
      },
      "source": [
        "find_plot_misclassified_images(test_loader, model_batchnorm_l1_l2)"
      ],
      "execution_count": 55,
      "outputs": [
        {
          "output_type": "stream",
          "text": [
            "/usr/local/lib/python3.7/dist-packages/ipykernel_launcher.py:62: UserWarning: Implicit dimension choice for log_softmax has been deprecated. Change the call to include dim=X as an argument.\n"
          ],
          "name": "stderr"
        },
        {
          "output_type": "display_data",
          "data": {
            "image/png": "[encoded data removed]",
            "text/plain": [
              "<Figure size 1080x1080 with 20 Axes>"
            ]
          },
          "metadata": {
            "tags": [],
            "needs_background": "light"
          }
        }
      ]
    },
    {
      "cell_type": "code",
      "metadata": {
        "id": "jQKFBpfVByel"
      },
      "source": [
        ""
      ],
      "execution_count": null,
      "outputs": []
    },
    {
      "cell_type": "markdown",
      "metadata": {
        "id": "hchdFSugB0x7"
      },
      "source": [
        "# Tain/Test Loss and Accuracy Plots for all the three models¶\n"
      ]
    },
    {
      "cell_type": "code",
      "metadata": {
        "id": "ok6xsmL-ByhQ"
      },
      "source": [
        "import matplotlib.pyplot as plt\n",
        "def plot_train_loss(train_loss_groupnorm_l1_list, train_loss_layernorm_l2_list, train_loss_batchnorm_l1_l2_list):\n",
        "    fig, axs = plt.subplots(figsize=(5,5))\n",
        "    axs.plot(train_loss_groupnorm_l1_list, label=\"Group Normalization + L1 Train Loss\")\n",
        "    axs.plot(train_loss_layernorm_l2_list, label=\"Layer Normalization + L2 Train Loss\")\n",
        "    axs.plot(train_loss_batchnorm_l1_l2_list, label=\"Batch Normalization + L1 + L2 Train Loss\")\n",
        "    axs.legend()\n",
        "    plt.xlabel(\"Epoch\")\n",
        "    plt.ylabel(\"Accuracy\")\n",
        "    plt.show()"
      ],
      "execution_count": 56,
      "outputs": []
    },
    {
      "cell_type": "code",
      "metadata": {
        "colab": {
          "base_uri": "https://localhost:8080/",
          "height": 334
        },
        "id": "pzsru_J0BykB",
        "outputId": "e4f595dc-1ca1-4c79-eef5-d765d8e236c1"
      },
      "source": [
        "plot_train_loss(train_loss_groupnorm_l1_list, train_loss_layernorm_l2_list, train_loss_batchnorm_l1_l2_list)"
      ],
      "execution_count": 57,
      "outputs": [
        {
          "output_type": "display_data",
          "data": {
            "image/png": "[encoded data removed]",
            "text/plain": [
              "<Figure size 360x360 with 1 Axes>"
            ]
          },
          "metadata": {
            "tags": [],
            "needs_background": "light"
          }
        }
      ]
    },
    {
      "cell_type": "code",
      "metadata": {
        "id": "Nu1DPFEJBym-"
      },
      "source": [
        ""
      ],
      "execution_count": null,
      "outputs": []
    },
    {
      "cell_type": "markdown",
      "metadata": {
        "id": "6dyDt2ZXctmH"
      },
      "source": [
        "# Analysis\n",
        "\n",
        "* Group Normalization + L1 the loss started high and remained high after 20 epochs\n",
        "* Layer Normalization + L2 the loss started lower than the above and remained lower as well after 20 epochs\n",
        "* Finally the Batch Normalization + L1 + L2 the loss started lowest and ended lowest as well\n",
        "\n"
      ]
    },
    {
      "cell_type": "code",
      "metadata": {
        "id": "zXjc7suyByq1"
      },
      "source": [
        "\n",
        "def plot_test_accuracy(test_acc_groupnorm_l1_list, test_acc_layernorm_l2_list, test_acc_batchnorm_l1_l2_list):\n",
        "    fig, axs = plt.subplots(figsize=(5,5))\n",
        "    axs.plot(test_acc_groupnorm_l1_list, label=\"Group Normalization + L1 Test Accuracy\")\n",
        "    axs.plot(test_acc_layernorm_l2_list, label=\"Layer Normalization + L2 Test Accuracy\")\n",
        "    axs.plot(test_acc_batchnorm_l1_l2_list, label=\"Batch Normalization + L1 + L2 Test Accuracy\")\n",
        "    axs.legend()\n",
        "    plt.xlabel(\"Epoch\")\n",
        "    plt.ylabel(\"Accuracy\")\n",
        "    plt.show()"
      ],
      "execution_count": 60,
      "outputs": []
    },
    {
      "cell_type": "code",
      "metadata": {
        "colab": {
          "base_uri": "https://localhost:8080/",
          "height": 334
        },
        "id": "nqXv6P3GdDl7",
        "outputId": "4f8e0dbf-4ce0-4f77-b5e8-f4a35174b3be"
      },
      "source": [
        "plot_test_accuracy(test_acc_groupnorm_l1_list, test_acc_layernorm_l2_list, test_acc_batchnorm_l1_l2_list)"
      ],
      "execution_count": 61,
      "outputs": [
        {
          "output_type": "display_data",
          "data": {
            "image/png": "[encoded data removed]",
            "text/plain": [
              "<Figure size 360x360 with 1 Axes>"
            ]
          },
          "metadata": {
            "tags": [],
            "needs_background": "light"
          }
        }
      ]
    },
    {
      "cell_type": "code",
      "metadata": {
        "id": "nlzPFvsmdD5f"
      },
      "source": [
        ""
      ],
      "execution_count": null,
      "outputs": []
    },
    {
      "cell_type": "markdown",
      "metadata": {
        "id": "Kwl01_4zdIlB"
      },
      "source": [
        "# Test Accuracy Observation\n",
        "\n",
        "* Layer Normalization + L2 the loss attained a better accuracy than the others while Group Normalization + L1 was the lowest\n",
        "* However as discussed before the reason could be the increase in number of parameters\n",
        "* Here with this study we will not infer anything rather wait for the next phase of study\n",
        "\n"
      ]
    },
    {
      "cell_type": "code",
      "metadata": {
        "id": "v5j7vEncdUCA"
      },
      "source": [
        ""
      ],
      "execution_count": null,
      "outputs": []
    },
    {
      "cell_type": "code",
      "metadata": {
        "id": "xetH31YBdUFJ"
      },
      "source": [
        ""
      ],
      "execution_count": null,
      "outputs": []
    },
    {
      "cell_type": "code",
      "metadata": {
        "id": "2FKNYcVldUIf"
      },
      "source": [
        ""
      ],
      "execution_count": null,
      "outputs": []
    },
    {
      "cell_type": "code",
      "metadata": {
        "id": "pndEzc7TdUL6"
      },
      "source": [
        ""
      ],
      "execution_count": null,
      "outputs": []
    }
  ]
}